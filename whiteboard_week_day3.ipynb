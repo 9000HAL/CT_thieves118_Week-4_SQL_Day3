{
 "cells": [
  {
   "cell_type": "code",
   "execution_count": 7,
   "metadata": {},
   "outputs": [
    {
     "name": "stdout",
     "output_type": "stream",
     "text": [
      "5\n"
     ]
    }
   ],
   "source": [
    "\"\"\"\n",
    "\n",
    "Please write a function that sums a list, but ignores any duplicate items in the list.\n",
    "\n",
    "For instance, for the list [3, 4, 3, 6] , the function should return 10.\n",
    "\n",
    "sum_no_duplicates([1, 1, 2, 3]), 5\n",
    "\n",
    "sum_no_duplicates([1, 1, 2, 2, 3]), 3\n",
    "\n",
    "\"\"\"\n",
    "\n",
    "\n",
    "#############################################\n",
    "\n",
    "\n",
    "def the_sum(list_a):\n",
    "    output = []\n",
    "    for num in list_a:\n",
    "        list_a.count(num)\n",
    "        if list_a.count(num) == 1:\n",
    "            output.append(num)\n",
    "\n",
    "    return sum(output)\n",
    "print(the_sum([1, 1, 2, 3]))\n",
    "\n",
    "\n",
    "\n"
   ]
  }
 ],
 "metadata": {
  "kernelspec": {
   "display_name": "Python 3.10.10 64-bit",
   "language": "python",
   "name": "python3"
  },
  "language_info": {
   "codemirror_mode": {
    "name": "ipython",
    "version": 3
   },
   "file_extension": ".py",
   "mimetype": "text/x-python",
   "name": "python",
   "nbconvert_exporter": "python",
   "pygments_lexer": "ipython3",
   "version": "3.10.10"
  },
  "orig_nbformat": 4,
  "vscode": {
   "interpreter": {
    "hash": "aee8b7b246df8f9039afb4144a1f6fd8d2ca17a180786b69acc140d282b71a49"
   }
  }
 },
 "nbformat": 4,
 "nbformat_minor": 2
}
